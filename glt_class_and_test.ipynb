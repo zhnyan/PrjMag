{
 "cells": [
  {
   "cell_type": "code",
   "execution_count": 17,
   "metadata": {
    "code_folding": []
   },
   "outputs": [],
   "source": [
    "class Glt:\n",
    "    def __init__(self, if_stainless = False, if_touchscreen = False):\n",
    "        #这里后续增加读取excel文件中的数据并更新成本变量\n",
    "        hardwarecost = 2.2\n",
    "        manufacturecost = 0.3\n",
    "        packagecost = 0.02\n",
    "        self.basecost = hardwarecost + manufacturecost + packagecost\n",
    "        self.stainlesscost = 0.3\n",
    "        self.touchscreencost = 0.2\n",
    "        self.if_stainless = if_stainless\n",
    "        self.if_touchscreen = if_touchscreen\n",
    "    def cost(self):\n",
    "        devicecost = self.basecost\n",
    "        # stainless\n",
    "        if self.if_stainless == True:\n",
    "            devicecost += self.stainlesscost\n",
    "        # touchscreen\n",
    "        if self.if_touchscreen == True:\n",
    "            devicecost += self.touchscreencost            \n",
    "        return devicecost"
   ]
  },
  {
   "cell_type": "code",
   "execution_count": 18,
   "metadata": {},
   "outputs": [
    {
     "name": "stdout",
     "output_type": "stream",
     "text": [
      "2.5\n",
      "2.8\n",
      "2.7\n",
      "3.0\n"
     ]
    }
   ],
   "source": [
    "# default configuration\n",
    "glt = Glt() \n",
    "print(glt.cost())\n",
    "# stainless cost\n",
    "glt = Glt(if_stainless = True) \n",
    "print( glt.cost() )\n",
    "# touchscreen cost\n",
    "glt = Glt(if_touchscreen = True) \n",
    "print( glt.cost() )\n",
    "# stainless cost & touchscreencost\n",
    "glt = Glt(if_touchscreen = True, if_stainless = True)\n",
    "print(glt.cost())"
   ]
  }
 ],
 "metadata": {
  "kernelspec": {
   "display_name": "Python 3",
   "language": "python",
   "name": "python3"
  },
  "language_info": {
   "codemirror_mode": {
    "name": "ipython",
    "version": 3
   },
   "file_extension": ".py",
   "mimetype": "text/x-python",
   "name": "python",
   "nbconvert_exporter": "python",
   "pygments_lexer": "ipython3",
   "version": "3.6.4"
  },
  "toc": {
   "nav_menu": {},
   "number_sections": true,
   "sideBar": true,
   "skip_h1_title": false,
   "title_cell": "Table of Contents",
   "title_sidebar": "Contents",
   "toc_cell": false,
   "toc_position": {},
   "toc_section_display": true,
   "toc_window_display": false
  },
  "varInspector": {
   "cols": {
    "lenName": 16,
    "lenType": 16,
    "lenVar": 40
   },
   "kernels_config": {
    "python": {
     "delete_cmd_postfix": "",
     "delete_cmd_prefix": "del ",
     "library": "var_list.py",
     "varRefreshCmd": "print(var_dic_list())"
    },
    "r": {
     "delete_cmd_postfix": ") ",
     "delete_cmd_prefix": "rm(",
     "library": "var_list.r",
     "varRefreshCmd": "cat(var_dic_list()) "
    }
   },
   "types_to_exclude": [
    "module",
    "function",
    "builtin_function_or_method",
    "instance",
    "_Feature"
   ],
   "window_display": false
  }
 },
 "nbformat": 4,
 "nbformat_minor": 2
}
